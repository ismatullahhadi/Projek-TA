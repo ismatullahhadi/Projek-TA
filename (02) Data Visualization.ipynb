{
 "cells": [
  {
   "cell_type": "code",
   "execution_count": 4,
   "metadata": {},
   "outputs": [],
   "source": [
    "# Import Library\n",
    "import numpy as np # linear algebra\n",
    "import pandas as pd # data processing, pembacaan file excel\n",
    "import matplotlib.pyplot as plt # untuk plotting\n",
    "import datetime  # untuk mengganti format tanggal"
   ]
  },
  {
   "cell_type": "code",
   "execution_count": 5,
   "metadata": {},
   "outputs": [],
   "source": [
    "# Pembacaan File Data Polusi Udara ISPU Excel\n",
    "DKI1 = pd.read_excel(\"./Data/Impute/Data ISPU - Impute.xlsx\", sheet_name=\"DKI1\")\n",
    "DKI2 = pd.read_excel(\"./Data/Impute/Data ISPU - Impute.xlsx\", sheet_name=\"DKI2\")\n",
    "DKI3 = pd.read_excel(\"./Data/Impute/Data ISPU - Impute.xlsx\", sheet_name=\"DKI3\")\n",
    "DKI4 = pd.read_excel(\"./Data/Impute/Data ISPU - Impute.xlsx\", sheet_name=\"DKI4\")\n",
    "DKI5 = pd.read_excel(\"./Data/Impute/Data ISPU - Impute.xlsx\", sheet_name=\"DKI5\")"
   ]
  },
  {
   "cell_type": "code",
   "execution_count": 6,
   "metadata": {},
   "outputs": [
    {
     "data": {
      "text/html": [
       "<div>\n",
       "<style scoped>\n",
       "    .dataframe tbody tr th:only-of-type {\n",
       "        vertical-align: middle;\n",
       "    }\n",
       "\n",
       "    .dataframe tbody tr th {\n",
       "        vertical-align: top;\n",
       "    }\n",
       "\n",
       "    .dataframe thead th {\n",
       "        text-align: right;\n",
       "    }\n",
       "</style>\n",
       "<table border=\"1\" class=\"dataframe\">\n",
       "  <thead>\n",
       "    <tr style=\"text-align: right;\">\n",
       "      <th></th>\n",
       "      <th>Tanggal</th>\n",
       "      <th>Wilayah</th>\n",
       "      <th>PM10</th>\n",
       "      <th>SO2</th>\n",
       "      <th>CO</th>\n",
       "      <th>O3</th>\n",
       "      <th>NO2</th>\n",
       "      <th>Max</th>\n",
       "      <th>Critical</th>\n",
       "      <th>Kategori</th>\n",
       "    </tr>\n",
       "  </thead>\n",
       "  <tbody>\n",
       "    <tr>\n",
       "      <th>0</th>\n",
       "      <td>2017-01-01</td>\n",
       "      <td>DKI1 (Bunderan HI)</td>\n",
       "      <td>63.0</td>\n",
       "      <td>34.0</td>\n",
       "      <td>25.0</td>\n",
       "      <td>21.0</td>\n",
       "      <td>2.0</td>\n",
       "      <td>63.0</td>\n",
       "      <td>PM10</td>\n",
       "      <td>Sedang</td>\n",
       "    </tr>\n",
       "    <tr>\n",
       "      <th>1</th>\n",
       "      <td>2017-01-02</td>\n",
       "      <td>DKI1 (Bunderan HI)</td>\n",
       "      <td>16.0</td>\n",
       "      <td>32.0</td>\n",
       "      <td>16.0</td>\n",
       "      <td>19.0</td>\n",
       "      <td>1.0</td>\n",
       "      <td>32.0</td>\n",
       "      <td>SO2</td>\n",
       "      <td>Baik</td>\n",
       "    </tr>\n",
       "    <tr>\n",
       "      <th>2</th>\n",
       "      <td>2017-01-03</td>\n",
       "      <td>DKI1 (Bunderan HI)</td>\n",
       "      <td>18.0</td>\n",
       "      <td>32.0</td>\n",
       "      <td>17.0</td>\n",
       "      <td>20.0</td>\n",
       "      <td>2.0</td>\n",
       "      <td>32.0</td>\n",
       "      <td>SO2</td>\n",
       "      <td>Baik</td>\n",
       "    </tr>\n",
       "    <tr>\n",
       "      <th>3</th>\n",
       "      <td>2017-01-04</td>\n",
       "      <td>DKI1 (Bunderan HI)</td>\n",
       "      <td>24.0</td>\n",
       "      <td>32.0</td>\n",
       "      <td>22.0</td>\n",
       "      <td>20.0</td>\n",
       "      <td>2.0</td>\n",
       "      <td>32.0</td>\n",
       "      <td>SO2</td>\n",
       "      <td>Baik</td>\n",
       "    </tr>\n",
       "    <tr>\n",
       "      <th>4</th>\n",
       "      <td>2017-01-05</td>\n",
       "      <td>DKI1 (Bunderan HI)</td>\n",
       "      <td>29.0</td>\n",
       "      <td>32.0</td>\n",
       "      <td>25.0</td>\n",
       "      <td>14.0</td>\n",
       "      <td>2.0</td>\n",
       "      <td>32.0</td>\n",
       "      <td>SO2</td>\n",
       "      <td>Baik</td>\n",
       "    </tr>\n",
       "  </tbody>\n",
       "</table>\n",
       "</div>"
      ],
      "text/plain": [
       "     Tanggal             Wilayah  PM10   SO2    CO    O3  NO2   Max Critical  \\\n",
       "0 2017-01-01  DKI1 (Bunderan HI)  63.0  34.0  25.0  21.0  2.0  63.0     PM10   \n",
       "1 2017-01-02  DKI1 (Bunderan HI)  16.0  32.0  16.0  19.0  1.0  32.0      SO2   \n",
       "2 2017-01-03  DKI1 (Bunderan HI)  18.0  32.0  17.0  20.0  2.0  32.0      SO2   \n",
       "3 2017-01-04  DKI1 (Bunderan HI)  24.0  32.0  22.0  20.0  2.0  32.0      SO2   \n",
       "4 2017-01-05  DKI1 (Bunderan HI)  29.0  32.0  25.0  14.0  2.0  32.0      SO2   \n",
       "\n",
       "  Kategori  \n",
       "0   Sedang  \n",
       "1     Baik  \n",
       "2     Baik  \n",
       "3     Baik  \n",
       "4     Baik  "
      ]
     },
     "execution_count": 6,
     "metadata": {},
     "output_type": "execute_result"
    }
   ],
   "source": [
    "# Menampilkan 5 Data pertama DKI1\n",
    "DKI1.head()"
   ]
  },
  {
   "cell_type": "code",
   "execution_count": 7,
   "metadata": {},
   "outputs": [
    {
     "data": {
      "text/plain": [
       "0   2017-01-01\n",
       "1   2017-01-02\n",
       "2   2017-01-03\n",
       "3   2017-01-04\n",
       "4   2017-01-05\n",
       "Name: Tanggal, dtype: datetime64[ns]"
      ]
     },
     "execution_count": 7,
     "metadata": {},
     "output_type": "execute_result"
    }
   ],
   "source": [
    "# Deklarasi variabel untuk data yang akan divisualisasi\n",
    "Tanggal = DKI1['Tanggal']\n",
    "PM10 = DKI1['PM10']\n",
    "SO2 = DKI1['SO2']\n",
    "Tanggal.head()"
   ]
  },
  {
   "cell_type": "code",
   "execution_count": 8,
   "metadata": {},
   "outputs": [
    {
     "data": {
      "text/plain": [
       "0      2017-01-01\n",
       "1      2017-01-02\n",
       "2      2017-01-03\n",
       "3      2017-01-04\n",
       "4      2017-01-05\n",
       "          ...    \n",
       "1760   2021-10-27\n",
       "1761   2021-10-28\n",
       "1762   2021-10-29\n",
       "1763   2021-10-30\n",
       "1764   2021-10-31\n",
       "Name: Tanggal, Length: 1765, dtype: datetime64[ns]"
      ]
     },
     "execution_count": 8,
     "metadata": {},
     "output_type": "execute_result"
    }
   ],
   "source": [
    "# Pengecekan variabel tanggal apakah sudah semuanya tipe datetime64\n",
    "pd.to_datetime(Tanggal)"
   ]
  },
  {
   "cell_type": "code",
   "execution_count": 9,
   "metadata": {},
   "outputs": [
    {
     "data": {
      "text/plain": [
       "[<matplotlib.lines.Line2D at 0x233be67e820>]"
      ]
     },
     "execution_count": 9,
     "metadata": {},
     "output_type": "execute_result"
    },
    {
     "data": {
      "image/png": "[encoded data removed]",
      "text/plain": [
       "<Figure size 432x288 with 1 Axes>"
      ]
     },
     "metadata": {
      "needs_background": "light"
     },
     "output_type": "display_data"
    }
   ],
   "source": [
    "# Plot Data\n",
    "plt.plot(Tanggal, PM10)"
   ]
  }
 ],
 "metadata": {
  "interpreter": {
   "hash": "7306ad071e428c6da4435de593907615ae2d8a0d9dc6a1094b4e60a7b3dd4fb2"
  },
  "kernelspec": {
   "display_name": "Python 3.8.8 ('base')",
   "language": "python",
   "name": "python3"
  },
  "language_info": {
   "codemirror_mode": {
    "name": "ipython",
    "version": 3
   },
   "file_extension": ".py",
   "mimetype": "text/x-python",
   "name": "python",
   "nbconvert_exporter": "python",
   "pygments_lexer": "ipython3",
   "version": "3.8.8"
  },
  "orig_nbformat": 4
 },
 "nbformat": 4,
 "nbformat_minor": 2
}
