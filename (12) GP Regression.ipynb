{
 "cells": [
  {
   "cell_type": "markdown",
   "metadata": {},
   "source": [
    "https://github.com/keyonvafa/Gaussian-Process/blob/master/GP%20Regression.ipynb"
   ]
  },
  {
   "cell_type": "code",
   "execution_count": 1,
   "metadata": {},
   "outputs": [],
   "source": [
    "import numpy as np\n",
    "import matplotlib.pyplot as plt\n",
    "import sklearn\n",
    "from sklearn import linear_model\n",
    "%matplotlib inline"
   ]
  },
  {
   "cell_type": "markdown",
   "metadata": {},
   "source": [
    "Data"
   ]
  },
  {
   "cell_type": "code",
   "execution_count": 2,
   "metadata": {},
   "outputs": [],
   "source": [
    "x = np.array([-1.5,-.9,-.75,-.6,-.25,0])\n",
    "y = np.array([-1.8,-1.2,-.3,.2,.5,.6])"
   ]
  },
  {
   "cell_type": "code",
   "execution_count": 5,
   "metadata": {},
   "outputs": [
    {
     "data": {
      "image/png": "[encoded data removed]",
      "text/plain": [
       "<Figure size 432x288 with 1 Axes>"
      ]
     },
     "metadata": {
      "needs_background": "light"
     },
     "output_type": "display_data"
    }
   ],
   "source": [
    "plt.scatter(x,y)\n",
    "pass"
   ]
  },
  {
   "cell_type": "markdown",
   "metadata": {},
   "source": [
    "Linear Model"
   ]
  },
  {
   "cell_type": "code",
   "execution_count": 9,
   "metadata": {},
   "outputs": [
    {
     "data": {
      "image/png": "[encoded data removed]",
      "text/plain": [
       "<Figure size 432x288 with 1 Axes>"
      ]
     },
     "metadata": {
      "needs_background": "light"
     },
     "output_type": "display_data"
    }
   ],
   "source": [
    "x_train = [[x[i]] for i in range(len(x))]\n",
    "y_train = [[y[i]] for i in range(len(y))]\n",
    "clf = linear_model.LinearRegression()\n",
    "clf.fit(x_train,y_train)\n",
    "plt.scatter(x_train, y_train,  color='black')\n",
    "plt.plot(x_train, clf.predict(x_train), color='blue',linewidth=3)\n",
    "pass"
   ]
  },
  {
   "cell_type": "markdown",
   "metadata": {},
   "source": [
    "Gaussian Regression, with optimizing parameters"
   ]
  },
  {
   "cell_type": "code",
   "execution_count": 13,
   "metadata": {},
   "outputs": [],
   "source": [
    "x = np.array([-1.5,-1.2,-.9,-.75,-.6,-.25,0])\n",
    "y = np.array([-1.8,-1.7,-1.2,-.3,.2,.5,.6])\n",
    "sigma_n = np.var(y)\n",
    "n = len(x)"
   ]
  },
  {
   "cell_type": "code",
   "execution_count": 52,
   "metadata": {},
   "outputs": [
    {
     "data": {
      "text/plain": [
       "0.9077551020408162"
      ]
     },
     "execution_count": 52,
     "metadata": {},
     "output_type": "execute_result"
    }
   ],
   "source": [
    "sigma_n"
   ]
  },
  {
   "cell_type": "code",
   "execution_count": 16,
   "metadata": {},
   "outputs": [],
   "source": [
    "#x = np.arange(-5,5,.5)\n",
    "#y = x+np.random.normal(0,.2,len(x))\n",
    "#sigma_n = np.var(y)\n",
    "#n = len(x)"
   ]
  },
  {
   "cell_type": "code",
   "execution_count": 17,
   "metadata": {},
   "outputs": [
    {
     "data": {
      "image/png": "[encoded data removed]",
      "text/plain": [
       "<Figure size 432x288 with 1 Axes>"
      ]
     },
     "metadata": {
      "needs_background": "light"
     },
     "output_type": "display_data"
    }
   ],
   "source": [
    "plt.scatter(x,y)\n",
    "pass"
   ]
  },
  {
   "cell_type": "code",
   "execution_count": 34,
   "metadata": {},
   "outputs": [],
   "source": [
    "def dK_dtheta1(theta1,theta2):\n",
    "    l = np.exp(theta1)\n",
    "    sig = np.exp(2*theta2)\n",
    "    K = np.zeros((n,n))\n",
    "    for i in range(n):\n",
    "        for j in range(n):\n",
    "            K[i,j] = sig*np.exp((-1.0*(x[i]-x[j])**2)/l)*((1.0*(x[i]-x[j])**2)/l)\n",
    "    return K"
   ]
  },
  {
   "cell_type": "code",
   "execution_count": 35,
   "metadata": {},
   "outputs": [],
   "source": [
    "def dK_dtheta2(theta1,theta2):\n",
    "    l = np.exp(theta1)\n",
    "    sig = np.exp(2*theta2)\n",
    "    K = np.zeros((n,n))\n",
    "    for i in range(n):\n",
    "        for j in range(n):\n",
    "            K[i,j] = 2*sig*np.exp((-1.0*(x[i]-x[j])**2)/l)\n",
    "    return K"
   ]
  },
  {
   "cell_type": "code",
   "execution_count": 36,
   "metadata": {},
   "outputs": [],
   "source": [
    "def kernel(i,j,theta1,theta2):\n",
    "    l = np.exp(theta1)\n",
    "    sig = np.exp(2*theta2)\n",
    "    return sig*np.exp((-1.0*(i-j)**2)/l)+sigma_n*int(i == j)"
   ]
  },
  {
   "cell_type": "code",
   "execution_count": 37,
   "metadata": {},
   "outputs": [],
   "source": [
    "def create_K(theta1,theta2):\n",
    "    K = np.zeros((n,n))\n",
    "    for i in range(n):\n",
    "        for j in range(n):\n",
    "            K[i,j] = kernel(x[i],x[j],theta1,theta2)\n",
    "    return K"
   ]
  },
  {
   "cell_type": "code",
   "execution_count": 38,
   "metadata": {},
   "outputs": [],
   "source": [
    "def grad(theta1,theta2):\n",
    "    w = np.zeros(2)\n",
    "    K = create_K(theta1,theta2)\n",
    "    K_inv = np.linalg.inv(K)\n",
    "    dKdt1 = dK_dtheta1(theta1,theta2)\n",
    "    dKdt2 = dK_dtheta2(theta1,theta2)\n",
    "    # We don't compute the product before taking the trick -- using np.einsum saves times\n",
    "    w[0] = -.5*(np.einsum('ij,ji->', K_inv, dKdt1)-np.dot(np.dot(np.dot(np.dot(y.T,K_inv),dKdt1),K_inv),y)) \n",
    "    w[1] = -.5*(np.einsum('ij,ji->', K_inv, dKdt2)-np.dot(np.dot(np.dot(np.dot(y.T,K_inv),dKdt2),K_inv),y))\n",
    "    return w"
   ]
  },
  {
   "cell_type": "code",
   "execution_count": 39,
   "metadata": {},
   "outputs": [],
   "source": [
    "def train(epoch= 1000,stepsize = .01):\n",
    "    w = np.random.rand(2)\n",
    "    for i in range(epoch):\n",
    "        w = w +stepsize*grad(w[0],w[1])\n",
    "    return(w)"
   ]
  },
  {
   "cell_type": "code",
   "execution_count": 40,
   "metadata": {},
   "outputs": [],
   "source": [
    "#w0,w1 = train()\n",
    "#loglik(w0,w1)"
   ]
  },
  {
   "cell_type": "code",
   "execution_count": 41,
   "metadata": {},
   "outputs": [],
   "source": [
    "def loglik(theta1,theta2):\n",
    "    K = create_K(theta1,theta2)\n",
    "    K_inv = np.linalg.inv(K)\n",
    "    return -.5*np.log(np.linalg.det(K))-.5*np.dot(np.dot(y.T,K_inv),y)"
   ]
  },
  {
   "cell_type": "code",
   "execution_count": 42,
   "metadata": {},
   "outputs": [],
   "source": [
    "def create_K_star(x_new,theta1,theta2):\n",
    "    K_star = np.zeros((1,n))\n",
    "    for i in range(n):\n",
    "        K_star[0,i] = kernel(x_new,x[i],theta1,theta2)\n",
    "    return K_star"
   ]
  },
  {
   "cell_type": "code",
   "execution_count": 43,
   "metadata": {},
   "outputs": [],
   "source": [
    "def predict_and_error(x_new,theta1,theta2,K_inv):\n",
    "    K_star = create_K_star(x_new,theta1,theta2)\n",
    "    K_star_star = kernel(x_new,x_new,theta1,theta2)\n",
    "    ybar_star = np.dot(np.dot(K_star,K_inv),y)\n",
    "    var_y_star = K_star_star - np.dot(np.dot(K_star,K_inv),K_star.T)\n",
    "    return(ybar_star[0],var_y_star[0][0])"
   ]
  },
  {
   "cell_type": "code",
   "execution_count": 44,
   "metadata": {},
   "outputs": [],
   "source": [
    "def plot_preds(theta1,theta2,xmin = np.min(x)-1,xmax = np.max(x)+1,by = .1):\n",
    "    K = create_K(theta1,theta2)\n",
    "    K_inv = np.linalg.inv(K)\n",
    "    p_x = np.arange(xmin,xmax,by)\n",
    "    p_y = np.array([predict_and_error(x_new,theta1,theta2,K_inv)[0] for x_new in p_x])\n",
    "    errs = np.array([predict_and_error(x_new,theta1,theta2,K_inv)[1] for x_new in p_x])\n",
    "    lower = p_y - 1.96*np.sqrt(errs)\n",
    "    upper = p_y + 1.96*np.sqrt(errs)\n",
    "    plt.plot(x,y,'bo',label='Sample observations')\n",
    "    plt.plot(p_x,p_y,'r-',label='Regression line')\n",
    "    plt.plot(p_x,lower,'b--',label='Lower confidence limit (95%)')\n",
    "    plt.plot(p_x,upper,'b--',label='Upper confidence limit (95%)')"
   ]
  },
  {
   "cell_type": "code",
   "execution_count": 48,
   "metadata": {},
   "outputs": [
    {
     "name": "stdout",
     "output_type": "stream",
     "text": [
      "-0.1309874943522825 -0.0014558191993521252\n"
     ]
    },
    {
     "data": {
      "image/png": "[encoded data removed]",
      "text/plain": [
       "<Figure size 432x288 with 1 Axes>"
      ]
     },
     "metadata": {
      "needs_background": "light"
     },
     "output_type": "display_data"
    }
   ],
   "source": [
    "theta1,theta2 = train()\n",
    "plot_preds(theta1,theta2)\n",
    "print (theta1,theta2)"
   ]
  },
  {
   "cell_type": "markdown",
   "metadata": {},
   "source": [
    "Helper Functions for checking"
   ]
  },
  {
   "cell_type": "code",
   "execution_count": 49,
   "metadata": {},
   "outputs": [],
   "source": [
    "def gridsearch():\n",
    "    maxi = 0\n",
    "    maxj = 0\n",
    "    maxlik = -1000\n",
    "    for i in np.arange(-.5,.5,.01):\n",
    "        for j in np.arange(-.5,.5,.01):\n",
    "            if loglik(i,j) > maxlik:\n",
    "                maxi = i\n",
    "                maxj = j\n",
    "                maxlik = loglik(i,j)\n",
    "    theta1 = maxi\n",
    "    theta2 = maxj\n",
    "    return np.array([theta1,theta2])"
   ]
  },
  {
   "cell_type": "code",
   "execution_count": 50,
   "metadata": {},
   "outputs": [],
   "source": [
    "def finitedifference(theta1,theta2,eps):\n",
    "    w = np.zeros(2)\n",
    "    w[0] = (loglik(theta1+eps,theta2)-loglik(theta1-eps,theta2))/(2*eps) \n",
    "    w[1] = (loglik(theta1,theta2+eps)-loglik(theta1,theta2-eps))/(2*eps)\n",
    "    return w"
   ]
  }
 ],
 "metadata": {
  "interpreter": {
   "hash": "7306ad071e428c6da4435de593907615ae2d8a0d9dc6a1094b4e60a7b3dd4fb2"
  },
  "kernelspec": {
   "display_name": "Python 3.8.8 ('base')",
   "language": "python",
   "name": "python3"
  },
  "language_info": {
   "codemirror_mode": {
    "name": "ipython",
    "version": 3
   },
   "file_extension": ".py",
   "mimetype": "text/x-python",
   "name": "python",
   "nbconvert_exporter": "python",
   "pygments_lexer": "ipython3",
   "version": "3.8.8"
  },
  "orig_nbformat": 4
 },
 "nbformat": 4,
 "nbformat_minor": 2
}
