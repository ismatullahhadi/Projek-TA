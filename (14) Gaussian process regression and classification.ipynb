{
 "cells": [
  {
   "cell_type": "code",
   "execution_count": 113,
   "metadata": {},
   "outputs": [],
   "source": [
    "import numpy as np\n",
    "rng = np.random.RandomState(0)\n",
    "import matplotlib.pyplot as plt\n"
   ]
  },
  {
   "cell_type": "code",
   "execution_count": 114,
   "metadata": {},
   "outputs": [],
   "source": [
    "def wave(n_points=100, n_points_perturbed=20, pertubation_mult=1):\n",
    "    X = 5 * rng.rand(n_points, 1)\n",
    "    y = np.sin(X).ravel()\n",
    "    perturbation_step_size = n_points // n_points_perturbed\n",
    "    y[::perturbation_step_size] += 3 * pertubation_mult * (0.5 - rng.rand(X.shape[0] // perturbation_step_size))\n",
    "    \n",
    "    # Sort in order of X.\n",
    "    sort = np.argsort(X[:, 0])\n",
    "    X = X[sort]\n",
    "    y = y[sort]\n",
    "    \n",
    "    return X, y"
   ]
  },
  {
   "cell_type": "code",
   "execution_count": 115,
   "metadata": {},
   "outputs": [],
   "source": [
    "X, y = wave(n_points=100, n_points_perturbed=20, pertubation_mult=1)"
   ]
  },
  {
   "cell_type": "code",
   "execution_count": 88,
   "metadata": {},
   "outputs": [
    {
     "data": {
      "text/plain": [
       "array([[0.05713729],\n",
       "       [0.06618429],\n",
       "       [0.08214815],\n",
       "       [0.26713591],\n",
       "       [0.2768716 ],\n",
       "       [0.28424038],\n",
       "       [0.31977633],\n",
       "       [0.39761041],\n",
       "       [0.40550695],\n",
       "       [0.41711218],\n",
       "       [0.44801517],\n",
       "       [0.48922242],\n",
       "       [0.50146971],\n",
       "       [0.58765928],\n",
       "       [0.657414  ],\n",
       "       [0.66034053],\n",
       "       [0.66243817],\n",
       "       [0.68450136],\n",
       "       [0.7242388 ],\n",
       "       [0.73473323],\n",
       "       [0.7407043 ],\n",
       "       [0.90575481],\n",
       "       [0.91639918],\n",
       "       [0.94923956],\n",
       "       [1.12158514],\n",
       "       [1.15850813],\n",
       "       [1.16117071],\n",
       "       [1.2041439 ],\n",
       "       [1.22683605],\n",
       "       [1.29711282],\n",
       "       [1.31059075],\n",
       "       [1.35163953],\n",
       "       [1.36410951],\n",
       "       [1.40865053],\n",
       "       [1.41759423],\n",
       "       [1.46073763],\n",
       "       [1.46510142],\n",
       "       [1.50799317],\n",
       "       [1.66572576],\n",
       "       [1.69079476],\n",
       "       [1.73616759],\n",
       "       [1.77806369],\n",
       "       [1.84292303],\n",
       "       [1.86906569],\n",
       "       [1.89963478],\n",
       "       [1.98029851],\n",
       "       [2.03620586],\n",
       "       [2.10269733],\n",
       "       [2.28070283],\n",
       "       [2.39185154],\n",
       "       [2.42813798],\n",
       "       [2.4402814 ],\n",
       "       [2.48695683],\n",
       "       [2.55659491],\n",
       "       [2.58689554],\n",
       "       [2.76096235],\n",
       "       [2.78684396],\n",
       "       [2.82710656],\n",
       "       [2.92238034],\n",
       "       [2.93205083],\n",
       "       [2.93799818],\n",
       "       [3.08938346],\n",
       "       [3.15223968],\n",
       "       [3.19736258],\n",
       "       [3.34958273],\n",
       "       [3.36023904],\n",
       "       [3.41640668],\n",
       "       [3.47812723],\n",
       "       [3.48498621],\n",
       "       [3.58429841],\n",
       "       [3.62797182],\n",
       "       [3.63522131],\n",
       "       [3.7433181 ],\n",
       "       [3.82662627],\n",
       "       [3.85290374],\n",
       "       [3.87023666],\n",
       "       [3.88703781],\n",
       "       [3.89347698],\n",
       "       [3.92576456],\n",
       "       [3.94272756],\n",
       "       [3.99601294],\n",
       "       [4.11058867],\n",
       "       [4.24471778],\n",
       "       [4.30275587],\n",
       "       [4.31095759],\n",
       "       [4.31927803],\n",
       "       [4.37143983],\n",
       "       [4.38252623],\n",
       "       [4.5185987 ],\n",
       "       [4.5327775 ],\n",
       "       [4.64764658],\n",
       "       [4.70215973],\n",
       "       [4.70688852],\n",
       "       [4.74659411],\n",
       "       [4.80417329],\n",
       "       [4.80785077],\n",
       "       [4.80968189],\n",
       "       [4.86459745],\n",
       "       [4.8874757 ],\n",
       "       [4.90914695]])"
      ]
     },
     "execution_count": 88,
     "metadata": {},
     "output_type": "execute_result"
    }
   ],
   "source": [
    "X"
   ]
  },
  {
   "cell_type": "code",
   "execution_count": 108,
   "metadata": {},
   "outputs": [],
   "source": [
    "X = np.array([1,2,3,4,5,6,7,8,9,10])\n",
    "y = np.array([3,7,1,2,5,9,10,4,6,2])"
   ]
  },
  {
   "cell_type": "code",
   "execution_count": 109,
   "metadata": {},
   "outputs": [
    {
     "data": {
      "text/plain": [
       "array([[ 1],\n",
       "       [ 2],\n",
       "       [ 3],\n",
       "       [ 4],\n",
       "       [ 5],\n",
       "       [ 6],\n",
       "       [ 7],\n",
       "       [ 8],\n",
       "       [ 9],\n",
       "       [10]])"
      ]
     },
     "execution_count": 109,
     "metadata": {},
     "output_type": "execute_result"
    }
   ],
   "source": [
    "X = np.reshape(X, (-1,1))\n",
    "X"
   ]
  },
  {
   "cell_type": "code",
   "execution_count": 116,
   "metadata": {},
   "outputs": [],
   "source": [
    "from sklearn.gaussian_process import GaussianProcessRegressor\n",
    "clf = GaussianProcessRegressor(random_state=42)\n",
    "clf.fit(X, y)\n",
    "y_pred = clf.predict(X)\n"
   ]
  },
  {
   "cell_type": "code",
   "execution_count": 117,
   "metadata": {},
   "outputs": [
    {
     "data": {
      "text/plain": [
       "0.7943068818702212"
      ]
     },
     "execution_count": 117,
     "metadata": {},
     "output_type": "execute_result"
    }
   ],
   "source": [
    "clf.score(X,y)"
   ]
  },
  {
   "cell_type": "code",
   "execution_count": 118,
   "metadata": {},
   "outputs": [
    {
     "data": {
      "image/png": "[encoded data removed]",
      "text/plain": [
       "<Figure size 864x432 with 1 Axes>"
      ]
     },
     "metadata": {
      "needs_background": "light"
     },
     "output_type": "display_data"
    }
   ],
   "source": [
    "fig, ax = plt.subplots(1, figsize=(12, 6))\n",
    "plt.plot(X[:, 0], y, marker='o', color='black', linewidth=0)\n",
    "plt.plot(X[:, 0], y_pred, marker='x', color='steelblue')\n",
    "plt.suptitle(\"$GaussianProcessRegressor(kernel=RBF)$ [default]\", fontsize=20)\n",
    "plt.axis('off')\n",
    "pass"
   ]
  }
 ],
 "metadata": {
  "interpreter": {
   "hash": "7306ad071e428c6da4435de593907615ae2d8a0d9dc6a1094b4e60a7b3dd4fb2"
  },
  "kernelspec": {
   "display_name": "Python 3.8.8 ('base')",
   "language": "python",
   "name": "python3"
  },
  "language_info": {
   "codemirror_mode": {
    "name": "ipython",
    "version": 3
   },
   "file_extension": ".py",
   "mimetype": "text/x-python",
   "name": "python",
   "nbconvert_exporter": "python",
   "pygments_lexer": "ipython3",
   "version": "3.8.8"
  },
  "orig_nbformat": 4
 },
 "nbformat": 4,
 "nbformat_minor": 2
}
