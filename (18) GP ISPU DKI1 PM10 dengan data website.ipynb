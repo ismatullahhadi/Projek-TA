{
 "cells": [
  {
   "cell_type": "code",
   "execution_count": 1,
   "metadata": {},
   "outputs": [],
   "source": [
    "# Support for maths\n",
    "import numpy as np\n",
    "# Plotting tools\n",
    "from matplotlib import pyplot as plt\n",
    "# we use the following for plotting figures in jupyter\n",
    "%matplotlib inline\n",
    "# Importing data library\n",
    "import pandas as pd\n",
    "\n",
    "import warnings\n",
    "warnings.filterwarnings('ignore')\n",
    "\n",
    "# GPy: Gaussian processess libary\n",
    "import GPy\n",
    "from IPython.display import display\n",
    "\n",
    "plt.rcParams.update({'font.size': 32})"
   ]
  },
  {
   "cell_type": "code",
   "execution_count": 2,
   "metadata": {},
   "outputs": [],
   "source": [
    "# Pembacaan File Data Polusi Udara ISPU Excel\n",
    "DKI1 = pd.read_excel(\"./Data/Normalization/DATA ISPU - Normalization.xlsx\", sheet_name=\"DKI1\")"
   ]
  },
  {
   "cell_type": "code",
   "execution_count": 3,
   "metadata": {},
   "outputs": [
    {
     "data": {
      "text/html": [
       "<div>\n",
       "<style scoped>\n",
       "    .dataframe tbody tr th:only-of-type {\n",
       "        vertical-align: middle;\n",
       "    }\n",
       "\n",
       "    .dataframe tbody tr th {\n",
       "        vertical-align: top;\n",
       "    }\n",
       "\n",
       "    .dataframe thead th {\n",
       "        text-align: right;\n",
       "    }\n",
       "</style>\n",
       "<table border=\"1\" class=\"dataframe\">\n",
       "  <thead>\n",
       "    <tr style=\"text-align: right;\">\n",
       "      <th></th>\n",
       "      <th>Tanggal</th>\n",
       "      <th>Wilayah</th>\n",
       "      <th>PM10</th>\n",
       "      <th>SO2</th>\n",
       "      <th>CO</th>\n",
       "      <th>O3</th>\n",
       "      <th>NO2</th>\n",
       "      <th>Max</th>\n",
       "      <th>Critical</th>\n",
       "      <th>Kategori</th>\n",
       "    </tr>\n",
       "  </thead>\n",
       "  <tbody>\n",
       "    <tr>\n",
       "      <th>0</th>\n",
       "      <td>2017-01-01</td>\n",
       "      <td>DKI1 (Bunderan HI)</td>\n",
       "      <td>0.719512</td>\n",
       "      <td>0.314286</td>\n",
       "      <td>0.458333</td>\n",
       "      <td>0.092308</td>\n",
       "      <td>0.012821</td>\n",
       "      <td>0.300518</td>\n",
       "      <td>PM10</td>\n",
       "      <td>Sedang</td>\n",
       "    </tr>\n",
       "    <tr>\n",
       "      <th>1</th>\n",
       "      <td>2017-01-02</td>\n",
       "      <td>DKI1 (Bunderan HI)</td>\n",
       "      <td>0.146341</td>\n",
       "      <td>0.295238</td>\n",
       "      <td>0.270833</td>\n",
       "      <td>0.082051</td>\n",
       "      <td>0.000000</td>\n",
       "      <td>0.139896</td>\n",
       "      <td>SO2</td>\n",
       "      <td>Baik</td>\n",
       "    </tr>\n",
       "    <tr>\n",
       "      <th>2</th>\n",
       "      <td>2017-01-03</td>\n",
       "      <td>DKI1 (Bunderan HI)</td>\n",
       "      <td>0.170732</td>\n",
       "      <td>0.295238</td>\n",
       "      <td>0.291667</td>\n",
       "      <td>0.087179</td>\n",
       "      <td>0.012821</td>\n",
       "      <td>0.139896</td>\n",
       "      <td>SO2</td>\n",
       "      <td>Baik</td>\n",
       "    </tr>\n",
       "    <tr>\n",
       "      <th>3</th>\n",
       "      <td>2017-01-04</td>\n",
       "      <td>DKI1 (Bunderan HI)</td>\n",
       "      <td>0.243902</td>\n",
       "      <td>0.295238</td>\n",
       "      <td>0.395833</td>\n",
       "      <td>0.087179</td>\n",
       "      <td>0.012821</td>\n",
       "      <td>0.139896</td>\n",
       "      <td>SO2</td>\n",
       "      <td>Baik</td>\n",
       "    </tr>\n",
       "    <tr>\n",
       "      <th>4</th>\n",
       "      <td>2017-01-05</td>\n",
       "      <td>DKI1 (Bunderan HI)</td>\n",
       "      <td>0.304878</td>\n",
       "      <td>0.295238</td>\n",
       "      <td>0.458333</td>\n",
       "      <td>0.056410</td>\n",
       "      <td>0.012821</td>\n",
       "      <td>0.139896</td>\n",
       "      <td>SO2</td>\n",
       "      <td>Baik</td>\n",
       "    </tr>\n",
       "  </tbody>\n",
       "</table>\n",
       "</div>"
      ],
      "text/plain": [
       "     Tanggal             Wilayah      PM10       SO2        CO        O3  \\\n",
       "0 2017-01-01  DKI1 (Bunderan HI)  0.719512  0.314286  0.458333  0.092308   \n",
       "1 2017-01-02  DKI1 (Bunderan HI)  0.146341  0.295238  0.270833  0.082051   \n",
       "2 2017-01-03  DKI1 (Bunderan HI)  0.170732  0.295238  0.291667  0.087179   \n",
       "3 2017-01-04  DKI1 (Bunderan HI)  0.243902  0.295238  0.395833  0.087179   \n",
       "4 2017-01-05  DKI1 (Bunderan HI)  0.304878  0.295238  0.458333  0.056410   \n",
       "\n",
       "        NO2       Max Critical Kategori  \n",
       "0  0.012821  0.300518     PM10   Sedang  \n",
       "1  0.000000  0.139896      SO2     Baik  \n",
       "2  0.012821  0.139896      SO2     Baik  \n",
       "3  0.012821  0.139896      SO2     Baik  \n",
       "4  0.012821  0.139896      SO2     Baik  "
      ]
     },
     "execution_count": 3,
     "metadata": {},
     "output_type": "execute_result"
    }
   ],
   "source": [
    "# Menampilkan 5 Data pertama DKI1\n",
    "DKI1.head()"
   ]
  },
  {
   "cell_type": "code",
   "execution_count": null,
   "metadata": {},
   "outputs": [],
   "source": [
    "Data_Website = pd.read_excel()"
   ]
  }
 ],
 "metadata": {
  "kernelspec": {
   "display_name": "Python 3.9.12 ('base')",
   "language": "python",
   "name": "python3"
  },
  "language_info": {
   "codemirror_mode": {
    "name": "ipython",
    "version": 3
   },
   "file_extension": ".py",
   "mimetype": "text/x-python",
   "name": "python",
   "nbconvert_exporter": "python",
   "pygments_lexer": "ipython3",
   "version": "3.9.12"
  },
  "orig_nbformat": 4,
  "vscode": {
   "interpreter": {
    "hash": "4e1fd09d228ff9788fa89915754e118d60aa7ade2ba08ae4c3eb90b2aa0d2314"
   }
  }
 },
 "nbformat": 4,
 "nbformat_minor": 2
}
