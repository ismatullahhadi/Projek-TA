{
 "cells": [
  {
   "cell_type": "markdown",
   "metadata": {},
   "source": [
    "https://towardsdatascience.com/modern-gaussian-process-regression-9c5196ca87ab"
   ]
  },
  {
   "cell_type": "code",
   "execution_count": 18,
   "metadata": {},
   "outputs": [],
   "source": [
    "from sklearn.gaussian_process import GaussianProcessRegressor\n",
    "from sklearn.gaussian_process.kernels import WhiteKernel, DotProduct, RBF\n",
    "import matplotlib.pyplot as plt\n",
    "import numpy as np"
   ]
  },
  {
   "cell_type": "code",
   "execution_count": 19,
   "metadata": {},
   "outputs": [],
   "source": [
    "# Random seeds\n",
    "np.random.seed(seed=0)  # Set seed for NumPy\n",
    "random_state = 0"
   ]
  },
  {
   "cell_type": "code",
   "execution_count": 20,
   "metadata": {},
   "outputs": [],
   "source": [
    "# Generate features, and take norm for use with target\n",
    "x = np.random.normal(loc=0, scale=1, size=(50, 1))\n",
    "y = np.sin(x)"
   ]
  },
  {
   "cell_type": "code",
   "execution_count": 22,
   "metadata": {},
   "outputs": [
    {
     "data": {
      "text/plain": [
       "array([[ 0.9813841 ],\n",
       "       [ 0.38956314],\n",
       "       [ 0.82979374],\n",
       "       [ 0.78376151],\n",
       "       [ 0.95628847],\n",
       "       [-0.82897801],\n",
       "       [ 0.81346693],\n",
       "       [-0.15077996],\n",
       "       [-0.10303566],\n",
       "       [ 0.39915816],\n",
       "       [ 0.14354597],\n",
       "       [ 0.99321889],\n",
       "       [ 0.68967325],\n",
       "       [ 0.12137501],\n",
       "       [ 0.42943154],\n",
       "       [ 0.3275169 ],\n",
       "       [ 0.99705867],\n",
       "       [-0.20372211],\n",
       "       [ 0.30797867],\n",
       "       [-0.75397722],\n",
       "       [-0.55519952],\n",
       "       [ 0.60806314],\n",
       "       [ 0.76072944],\n",
       "       [-0.67588513],\n",
       "       [ 0.76551286],\n",
       "       [-0.99322961],\n",
       "       [ 0.04574255],\n",
       "       [-0.18609268],\n",
       "       [ 0.99927744],\n",
       "       [ 0.99485962],\n",
       "       [ 0.15432816],\n",
       "       [ 0.36921344],\n",
       "       [-0.77567617],\n",
       "       [-0.91712077],\n",
       "       [-0.34093579],\n",
       "       [ 0.15571276],\n",
       "       [ 0.94258592],\n",
       "       [ 0.9328988 ],\n",
       "       [-0.37771461],\n",
       "       [-0.29771932],\n",
       "       [-0.86670232],\n",
       "       [-0.98865446],\n",
       "       [-0.99083744],\n",
       "       [ 0.9286724 ],\n",
       "       [-0.48787366],\n",
       "       [-0.4241964 ],\n",
       "       [-0.94986235],\n",
       "       [ 0.70149307],\n",
       "       [-0.99907127],\n",
       "       [-0.21113919]])"
      ]
     },
     "execution_count": 22,
     "metadata": {},
     "output_type": "execute_result"
    }
   ],
   "source": [
    "y"
   ]
  },
  {
   "cell_type": "code",
   "execution_count": 23,
   "metadata": {},
   "outputs": [],
   "source": [
    "# Create kernel and define GPR\n",
    "kernel = RBF() + WhiteKernel()\n",
    "gpr = GaussianProcessRegressor(kernel=kernel, random_state=random_state)"
   ]
  },
  {
   "cell_type": "code",
   "execution_count": 24,
   "metadata": {},
   "outputs": [
    {
     "data": {
      "text/plain": [
       "GaussianProcessRegressor(alpha=1e-10, copy_X_train=True,\n",
       "                         kernel=RBF(length_scale=1) + WhiteKernel(noise_level=1),\n",
       "                         n_restarts_optimizer=0, normalize_y=False,\n",
       "                         optimizer='fmin_l_bfgs_b', random_state=0)"
      ]
     },
     "execution_count": 24,
     "metadata": {},
     "output_type": "execute_result"
    }
   ],
   "source": [
    "# Fit GPR model\n",
    "gpr.fit(x, y)"
   ]
  },
  {
   "cell_type": "code",
   "execution_count": 25,
   "metadata": {},
   "outputs": [],
   "source": [
    "# Create test data\n",
    "x_test = np.random.normal(loc=0, scale=1, size=(50, 1))\n",
    "y_test = np.sin(x_test)"
   ]
  },
  {
   "cell_type": "code",
   "execution_count": 26,
   "metadata": {},
   "outputs": [],
   "source": [
    "# Predict mean\n",
    "y_hat, y_sigma = gpr.predict(x_test, return_std=True)"
   ]
  },
  {
   "cell_type": "code",
   "execution_count": 27,
   "metadata": {},
   "outputs": [],
   "source": [
    "# Squeeze data\n",
    "x = np.squeeze(x)\n",
    "y = np.squeeze(y)\n",
    "x_test = np.squeeze(x_test)\n",
    "y_test = np.squeeze(y_test)"
   ]
  },
  {
   "cell_type": "code",
   "execution_count": 29,
   "metadata": {},
   "outputs": [
    {
     "data": {
      "text/plain": [
       "array([ 0.9813841 ,  0.38956314,  0.82979374,  0.78376151,  0.95628847,\n",
       "       -0.82897801,  0.81346693, -0.15077996, -0.10303566,  0.39915816,\n",
       "        0.14354597,  0.99321889,  0.68967325,  0.12137501,  0.42943154,\n",
       "        0.3275169 ,  0.99705867, -0.20372211,  0.30797867, -0.75397722,\n",
       "       -0.55519952,  0.60806314,  0.76072944, -0.67588513,  0.76551286,\n",
       "       -0.99322961,  0.04574255, -0.18609268,  0.99927744,  0.99485962,\n",
       "        0.15432816,  0.36921344, -0.77567617, -0.91712077, -0.34093579,\n",
       "        0.15571276,  0.94258592,  0.9328988 , -0.37771461, -0.29771932,\n",
       "       -0.86670232, -0.98865446, -0.99083744,  0.9286724 , -0.48787366,\n",
       "       -0.4241964 , -0.94986235,  0.70149307, -0.99907127, -0.21113919])"
      ]
     },
     "execution_count": 29,
     "metadata": {},
     "output_type": "execute_result"
    }
   ],
   "source": [
    "y"
   ]
  },
  {
   "cell_type": "code",
   "execution_count": 46,
   "metadata": {},
   "outputs": [
    {
     "data": {
      "image/png": "[encoded data removed]",
      "text/plain": [
       "<Figure size 288x216 with 1 Axes>"
      ]
     },
     "metadata": {
      "needs_background": "light"
     },
     "output_type": "display_data"
    }
   ],
   "source": [
    "# Initialize plot\n",
    "f, ax = plt.subplots(1, 1, figsize=(4, 3))\n",
    "\n",
    "# Plot the training data\n",
    "ax.scatter(x, y)\n",
    "\n",
    "# Plot predictive means as blue line\n",
    "ax.plot(x_test, y_hat, 'b')\n",
    "\n",
    "# Shade between the lower and upper confidence bounds\n",
    "lower = x_test - y_sigma\n",
    "upper = x_test + y_sigma\n",
    "ax.fill_between(x_test, lower, upper, alpha=0.5)\n",
    "ax.set_ylim([-3, 3])\n",
    "plt.title(\"GPR Model Predictions\")\n",
    "plt.show()"
   ]
  }
 ],
 "metadata": {
  "interpreter": {
   "hash": "7306ad071e428c6da4435de593907615ae2d8a0d9dc6a1094b4e60a7b3dd4fb2"
  },
  "kernelspec": {
   "display_name": "Python 3.8.8 ('base')",
   "language": "python",
   "name": "python3"
  },
  "language_info": {
   "codemirror_mode": {
    "name": "ipython",
    "version": 3
   },
   "file_extension": ".py",
   "mimetype": "text/x-python",
   "name": "python",
   "nbconvert_exporter": "python",
   "pygments_lexer": "ipython3",
   "version": "3.8.8"
  },
  "orig_nbformat": 4
 },
 "nbformat": 4,
 "nbformat_minor": 2
}
